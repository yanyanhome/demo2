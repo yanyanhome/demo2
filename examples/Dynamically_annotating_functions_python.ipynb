{
 "cells": [
  {
   "cell_type": "markdown",
   "metadata": {},
   "source": [
    "\n",
    "# Dynamic annotating methods\n",
    "This notebook demonstrates advanced ways of using OpenAI's function calling feature.\n",
    "    \n",
    "\n",
    "[!NOTE] : This notebook is a continuation of the [article](articles/dynamic_annotation_function_calling_and_agents.md) on dynamic annotation and function calling.\n"
   ]
  },
  {
   "cell_type": "markdown",
   "metadata": {},
   "source": [
    "## Importing the required libaries"
   ]
  },
  {
   "cell_type": "code",
   "execution_count": null,
   "metadata": {},
   "outputs": [],
   "source": [
    "from openai import OpenAI\n",
    "from dotenv import load_dotenv\n",
    "import os\n",
    "from inspect import signature, Parameter\n",
    "import functools\n",
    "import re\n",
    "from typing import Callable, Dict, List\n",
    "\n",
    "## Loading Environment Variables\n",
    "\n",
    "load_dotenv()\n",
    "\n",
    "## Basic Function Calling Example\n",
    "\n",
    "client = OpenAI()\n",
    "client.key = os.getenv(\"OPENAI_API_KEY\")\n",
    "tools = [\n",
    "    {\n",
    "        \"type\": \"function\",\n",
    "        \"function\": {\n",
    "            \"name\": \"get_weather_forecast\",\n",
    "            \"description\": \"Get the current weather in a given location\",\n",
    "            \"parameters\": {\n",
    "                \"type\": \"object\",\n",
    "                \"properties\": {\n",
    "                    \"location\": {\n",
    "                        \"type\": \"string\",\n",
    "                        \"description\": \"The city and state, e.g. San Francisco, CA\",\n",
    "                    },\n",
    "                    \"unit\": {\"type\": \"string\", \"enum\": [\"celsius\", \"fahrenheit\"]},\n",
    "                },\n",
    "                \"required\": [\"location\"],\n",
    "            },\n",
    "        }\n",
    "    }\n",
    "]\n",
    "messages = [{\"role\": \"user\", \"content\": \"What's the weather like in Boston today?\"}]\n",
    "completion = client.chat.completions.create(\n",
    "    model=\"gpt-4o\",\n",
    "    messages=messages,\n",
    "    tools=tools,\n",
    "    tool_choice=\"auto\"\n",
    ")\n",
    "\n",
    "print(completion)"
   ]
  },
  {
   "cell_type": "markdown",
   "metadata": {},
   "source": [
    "## Decorating functions\n"
   ]
  },
  {
   "cell_type": "markdown",
   "metadata": {},
   "source": [
    "Keep in mind this class we will be using to annotate all other methods we want to expose to OpenAI models.\n"
   ]
  },
  {
   "cell_type": "code",
   "execution_count": null,
   "metadata": {},
   "outputs": [],
   "source": [
    "def parse_docstring(func: Callable) -> Dict[str, str]:\n",
    "    doc = func.__doc__\n",
    "    if not doc:\n",
    "        return {}\n",
    "    param_re = re.compile(r':param\\s+(\\w+):\\s*(.*)')\n",
    "    param_descriptions = {}\n",
    "    for line in doc.split('\\n'):\n",
    "        match = param_re.match(line.strip())\n",
    "        if match:\n",
    "            param_name, param_desc = match.groups()\n",
    "            param_descriptions[param_name] = param_desc\n",
    "    return param_descriptions\n",
    "\n",
    "def function_schema(name: str, description: str, required_params: List[str]):\n",
    "    def decorator_function(func: Callable) -> Callable:\n",
    "        if not all(param in signature(func).parameters for param in required_params):\n",
    "            raise ValueError(f\"Missing required parameters in {func.__name__}\")\n",
    "        @functools.wraps(func)\n",
    "        def wrapper(*args, **kwargs):\n",
    "            return func(*args, **kwargs)\n",
    "        params = signature(func).parameters\n",
    "        param_descriptions = parse_docstring(func)\n",
    "        serialized_params = {\n",
    "            param_name: {\n",
    "                \"type\": \"string\",\n",
    "                \"description\": param_descriptions.get(param_name, \"No description\")\n",
    "            }\n",
    "            for param_name in required_params\n",
    "        }\n",
    "        wrapper.schema = {\n",
    "            \"name\": name,\n",
    "            \"description\": description,\n",
    "            \"parameters\": {\n",
    "                \"type\": \"object\",\n",
    "                \"properties\": serialized_params,\n",
    "                \"required\": required_params\n",
    "            }\n",
    "        }\n",
    "        return wrapper\n",
    "    return decorator_function"
   ]
  },
  {
   "cell_type": "markdown",
   "metadata": {},
   "source": [
    "## Example of decorator\n",
    "\n",
    "When writing the `description`, try to be as clear as possible, in my experience the more clear the better for the model to understand the method.\n",
    "\n",
    "Tip: If your method has multiple or dynamic paramters, explain how the parameters are going to be used, rather than explain the function itself."
   ]
  },
  {
   "cell_type": "code",
   "execution_count": null,
   "metadata": {},
   "outputs": [],
   "source": [
    "@function_schema(\n",
    "    name=\"get_weather_forecast\",\n",
    "    description=\"Finds information on the forecast for a specific location.\",\n",
    "    required_params=[\"location\"]\n",
    ")\n",
    "def get_weather_forecast(location: str):\n",
    "    return f\"Forecast for {location} is ...\""
   ]
  },
  {
   "cell_type": "markdown",
   "metadata": {},
   "source": [
    "## Function registry"
   ]
  },
  {
   "cell_type": "markdown",
   "metadata": {},
   "source": [
    "We now have the decorator, we just need now to registry all the functions we want to expose to the model. This is done by using the `register` method of the `FunctionRegistry` class."
   ]
  },
  {
   "cell_type": "code",
   "execution_count": null,
   "metadata": {},
   "outputs": [],
   "source": [
    "import importlib.util\n",
    "from pathlib import Path\n",
    "import json\n",
    "import logging\n",
    "\n",
    "class FunctionsRegistry:\n",
    "    def __init__(self) -> None:\n",
    "        self.functions_dir = Path(__file__).parent.parent / 'functions'\n",
    "        self.registry: Dict[str, callable] = {}\n",
    "        self.schema_registry: Dict[str, Dict] = {}\n",
    "        self.load_functions()\n",
    "\n",
    "    def load_functions(self) -> None:\n",
    "        if not self.functions_dir.exists():\n",
    "            logging.error(f\"Functions directory does not exist: {self.functions_dir}\")\n",
    "            return\n",
    "        for file in self.functions_dir.glob('*.py'):\n",
    "            module_name = file.stem\n",
    "            if module_name.startswith('__'):\n",
    "                continue\n",
    "            spec = importlib.util.spec_from_file_location(module_name, file)\n",
    "            if spec and spec.loader:\n",
    "                module = importlib.util.module_from_spec(spec)\n",
    "                spec.loader.exec_module(module)\n",
    "                for attr_name in dir(module):\n",
    "                    attr = getattr(module, attr_name)\n",
    "                    if callable(attr) and hasattr(attr, 'schema'):\n",
    "                        self.registry[attr_name] = attr\n",
    "                        self.schema_registry[attr_name] = attr.schema\n",
    "\n",
    "    def resolve_function(self, function_name: str, arguments_json: Optional[str] = None):\n",
    "        func = self.registry.get(function_name)\n",
    "        if not func:\n",
    "            raise ValueError(f\"Function {function_name} is not registered.\")\n",
    "        try:\n",
    "            if arguments_json is not None:\n",
    "                arguments_dict = json.loads(arguments_json) if isinstance(arguments_json, str) else arguments_json\n",
    "                return func(**arguments_dict)\n",
    "            else:\n",
    "                return func()\n",
    "        except json.JSONDecodeError:\n",
    "            logging.error(\"Invalid JSON format.\")\n",
    "            return None\n",
    "        except Exception as e:\n",
    "            logging.error(f\"Error when calling function {function_name}: {e}\")\n",
    "            return None\n",
    "\n",
    "    def mapped_functions(self) -> List[Dict]:\n",
    "        return [\n",
    "            {\n",
    "                \"type\": \"function\",\n",
    "                \"function\": func_schema\n",
    "            }\n",
    "            for func_schema in self.schema_registry.values()\n",
    "        ]\n",
    "\n",
    "    def generate_schema_file(self) -> None:\n",
    "        schema_path = self.functions_dir / 'function_schemas.json'\n",
    "        with schema_path.open('w') as f:\n",
    "            json.dump(list(self.schema_registry.values()), f, indent=2)\n",
    "\n",
    "    def get_registry_contents(self) -> List[str]:\n",
    "        return list(self.registry.keys())\n",
    "\n",
    "    def get_schema_registry(self) -> List[Dict]:\n",
    "        return list(self.schema_registry.values())"
   ]
  },
  {
   "cell_type": "markdown",
   "metadata": {},
   "source": [
    "## Example"
   ]
  },
  {
   "cell_type": "markdown",
   "metadata": {},
   "source": [
    "def main() -> None:\n",
    "    try:\n",
    "        client = OpenAI()\n",
    "        client.key = os.getenv(\"OPENAI_API_KEY\")\n",
    "        if not client.key:\n",
    "            raise ValueError(\"API key not found in environment variables.\")\n",
    "        tools = FunctionsRegistry()\n",
    "        messages = [{\"role\": \"user\", \"content\": \"what's the weather forecast for Wellington, New Zealand\"}]\n",
    "        completion = client.chat.completions.create(\n",
    "            model=\"gpt-4o\",\n",
    "            messages=messages,\n",
    "            tools=tools.mapped_functions(),\n",
    "            tool_choice=\"auto\"\n",
    "        )\n",
    "        print(completion)\n",
    "    except Exception as e:\n",
    "        logging.error(f\"An error occurred: {e}\")\n",
    "\n",
    "if __name__ == \"__main__\":\n",
    "    main()"
   ]
  }
 ],
 "metadata": {
  "language_info": {
   "name": "python"
  }
 },
 "nbformat": 4,
 "nbformat_minor": 2
}
